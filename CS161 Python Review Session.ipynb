{
 "cells": [
  {
   "cell_type": "markdown",
   "metadata": {},
   "source": [
    "# CS161 Python Review Session\n",
    "\n",
    "**Steven Chen**"
   ]
  },
  {
   "cell_type": "markdown",
   "metadata": {},
   "source": [
    "### Why Use Python?\n",
    "\n",
    "* Easy to learn\n",
    "* Fast to write\n",
    "* Easy to read (looks like pseudocode)!\n",
    "* General purpose\n",
    "* Plenty of useful libraries\n",
    "* The de facto language of AI and machine learning\n"
   ]
  },
  {
   "cell_type": "markdown",
   "metadata": {},
   "source": [
    "--------------------------------\n",
    "\n",
    "### Installing and Using Python\n",
    "\n",
    "Python is installed already on the Stanford AFS machines. To access them, SSH into rice.stanford.edu (that's where the project starter files are).\n",
    "\n",
    "`ssh SUNETID@rice.stanford.edu`\n",
    "\n",
    "To install on your own computer:\n",
    "\n",
    "**Mac:** Python is already installed. To install the Numpy library, which is also used for the project:\n",
    "\n",
    "`sudo easy_install pip`\n",
    "\n",
    "`pip install numpy`\n",
    "\n",
    "**Windows:** Download and install Anaconda, which gives you a Python install, a bunch of useful libraries, and a couple GUI programs:\n",
    "\n",
    "`https://www.anaconda.com/download/`\n",
    "\n",
    "**Ubuntu:** Python is already installed. To install Numpy:\n",
    "\n",
    "`sudo apt-get install python-pip`\n",
    "\n",
    "`pip install numpy`"
   ]
  },
  {
   "cell_type": "markdown",
   "metadata": {},
   "source": [
    "---------------------------\n",
    "\n",
    "### Python Language\n",
    "\n",
    "Python is:\n",
    "\n",
    "* **Dynamic:** Types (such as int, str, float) are not declared, but are inferred.\n",
    "\n",
    "* **Interpreted:** Each line of code is read, interpreted, and run by Python, instead of compiling your entire program and then running the whole thing. This means you have an interpreter, where you can run one line of code at a time!"
   ]
  },
  {
   "cell_type": "markdown",
   "metadata": {},
   "source": [
    "### Integers and Floats"
   ]
  },
  {
   "cell_type": "code",
   "execution_count": 1,
   "metadata": {},
   "outputs": [
    {
     "name": "stdout",
     "output_type": "stream",
     "text": [
      "3\n",
      "9\n",
      "6\n"
     ]
    }
   ],
   "source": [
    "# comments begin with a hash.\n",
    "\n",
    "a = 6  # variables are declared without a type.\n",
    "b = 3  # no semicolons needed\n",
    "\n",
    "print b\n",
    "print a + b\n",
    "print max(a, b)  # python has useful built-in functions, such as min, max, sum"
   ]
  },
  {
   "cell_type": "code",
   "execution_count": 2,
   "metadata": {},
   "outputs": [
    {
     "name": "stdout",
     "output_type": "stream",
     "text": [
      "512\n"
     ]
    }
   ],
   "source": [
    "a = a + 1\n",
    "a += 1\n",
    "\n",
    "# Python doesn't have the ++ operator, like a++.\n",
    "\n",
    "# the usual math operators:\n",
    "c = a + b\n",
    "d = a - b\n",
    "e = a / b \n",
    "f = a * b\n",
    "g = a ** b # a to the power of b\n",
    "\n",
    "print g"
   ]
  },
  {
   "cell_type": "code",
   "execution_count": 3,
   "metadata": {},
   "outputs": [
    {
     "name": "stdout",
     "output_type": "stream",
     "text": [
      "5.85978\n"
     ]
    }
   ],
   "source": [
    "pi = 3.1415  # declaring floats\n",
    "e = 2.71828\n",
    "\n",
    "print pi + e"
   ]
  },
  {
   "cell_type": "code",
   "execution_count": 4,
   "metadata": {},
   "outputs": [
    {
     "name": "stdout",
     "output_type": "stream",
     "text": [
      "512\n",
      "24\n",
      "105312291668557186697918027683670432318895095400549111254310977536\n"
     ]
    }
   ],
   "source": [
    "# Python numbers never overflow!\n",
    "print g\n",
    "print f\n",
    "\n",
    "print g ** f"
   ]
  },
  {
   "cell_type": "markdown",
   "metadata": {},
   "source": [
    "### Strings"
   ]
  },
  {
   "cell_type": "code",
   "execution_count": 5,
   "metadata": {},
   "outputs": [
    {
     "name": "stdout",
     "output_type": "stream",
     "text": [
      "11\n"
     ]
    }
   ],
   "source": [
    "s = 'hello world' # declaring a string\n",
    "s = \"hello world\" # single or double quotes, either works\n",
    "\n",
    "string_length = len(s)  # len() gives the length of the string\n",
    "\n",
    "print string_length"
   ]
  },
  {
   "cell_type": "code",
   "execution_count": 6,
   "metadata": {},
   "outputs": [
    {
     "name": "stdout",
     "output_type": "stream",
     "text": [
      "e\n"
     ]
    }
   ],
   "source": [
    "print s[1]  # indexing into a string gives a length 1 string.\n",
    "\n",
    "# Python is zero-indexed! (First element is at position 0.)"
   ]
  },
  {
   "cell_type": "code",
   "execution_count": 7,
   "metadata": {},
   "outputs": [
    {
     "name": "stdout",
     "output_type": "stream",
     "text": [
      "hello world from python\n"
     ]
    }
   ],
   "source": [
    "# appending strings together is easy!\n",
    "another = ' from python'\n",
    "combined = s + another\n",
    "print combined"
   ]
  },
  {
   "cell_type": "code",
   "execution_count": 8,
   "metadata": {},
   "outputs": [
    {
     "name": "stdout",
     "output_type": "stream",
     "text": [
      "hello world 3.1415\n"
     ]
    }
   ],
   "source": [
    "# to append different types, you'll need to cast a type.\n",
    "\n",
    "with_a_number = s + ' ' +  str(pi)\n",
    "\n",
    "print with_a_number"
   ]
  },
  {
   "cell_type": "markdown",
   "metadata": {},
   "source": [
    "### Control Statements and Logic"
   ]
  },
  {
   "cell_type": "code",
   "execution_count": 9,
   "metadata": {},
   "outputs": [
    {
     "name": "stdout",
     "output_type": "stream",
     "text": [
      "True 200\n"
     ]
    }
   ],
   "source": [
    "speed = 90\n",
    "cop_nice = True  # booleans are True or False\n",
    "\n",
    "\n",
    "if speed < 60:\n",
    "    get_ticket = False   # indenting represents what's inside a code block\n",
    "    fine = 0\n",
    "elif speed >= 60 and speed < 70:  # and, or are keywords written out in English\n",
    "    if cop_nice:\n",
    "        get_ticket = False\n",
    "        fine = 0\n",
    "    else:\n",
    "        get_ticket = True\n",
    "        fine = 100\n",
    "elif speed >= 70:\n",
    "    get_ticket = True\n",
    "    fine = 200\n",
    "\n",
    "    \n",
    "print get_ticket, fine  # multiple things printed on the same line"
   ]
  },
  {
   "cell_type": "markdown",
   "metadata": {},
   "source": [
    "**Note:** Indentation is very important in Python: it's how it knows what's inside or outside a block of code! Use 4 spaces or tabs, but don't mix them."
   ]
  },
  {
   "cell_type": "code",
   "execution_count": 28,
   "metadata": {},
   "outputs": [
    {
     "name": "stdout",
     "output_type": "stream",
     "text": [
      "test 1:\n",
      "0\n",
      "1\n",
      "2\n",
      "3\n",
      "4\n",
      "5\n",
      "6\n",
      "7\n",
      "8\n",
      "9\n",
      "test 2:\n",
      "-2 4\n",
      "-1 1\n",
      "0 0\n",
      "1 1\n",
      "2 4\n",
      "test 3:\n",
      "5\n",
      "7\n",
      "9\n",
      "11\n",
      "13\n"
     ]
    }
   ],
   "source": [
    "print \"test 1:\"\n",
    "\n",
    "for i in range(10):  # for loops loop over a list or range.\n",
    "    print i\n",
    "\n",
    "print \"test 2:\"\n",
    "    \n",
    "for i in range(-2, 3):\n",
    "    print i, i ** 2  # you can print multiple variables on one line\n",
    "    \n",
    "print \"test 3:\"\n",
    "    \n",
    "for i in range(5, 15, 2): # print from 5 to 15 (excluding 15), and step by 2 each time\n",
    "    print i"
   ]
  },
  {
   "cell_type": "markdown",
   "metadata": {},
   "source": [
    "### Python Lists (Note: We use Numpy arrays in the project, which are faster.)"
   ]
  },
  {
   "cell_type": "code",
   "execution_count": 11,
   "metadata": {},
   "outputs": [
    {
     "name": "stdout",
     "output_type": "stream",
     "text": [
      "[5, 6, 7]\n",
      "6\n",
      "18\n"
     ]
    }
   ],
   "source": [
    "my_list = []  # making a new list. A list can contain any objects.\n",
    "\n",
    "my_list.append(5)  # appending elements\n",
    "my_list.append(6)\n",
    "my_list.append(7)\n",
    "\n",
    "print my_list\n",
    "\n",
    "print my_list[1]\n",
    "\n",
    "print sum(my_list)"
   ]
  },
  {
   "cell_type": "code",
   "execution_count": 12,
   "metadata": {},
   "outputs": [
    {
     "name": "stdout",
     "output_type": "stream",
     "text": [
      "5\n",
      "6\n",
      "7\n"
     ]
    }
   ],
   "source": [
    "for elem in my_list:  # iterating through the elements of a list\n",
    "    print elem"
   ]
  },
  {
   "cell_type": "code",
   "execution_count": 13,
   "metadata": {},
   "outputs": [
    {
     "name": "stdout",
     "output_type": "stream",
     "text": [
      "entry:\n",
      "0\n",
      "5\n",
      "entry:\n",
      "1\n",
      "6\n",
      "entry:\n",
      "2\n",
      "7\n"
     ]
    }
   ],
   "source": [
    "for i, elem in enumerate(my_list): # enumerate, getting both index and element\n",
    "    print('entry:')\n",
    "    print(i)\n",
    "    print(elem)"
   ]
  },
  {
   "cell_type": "code",
   "execution_count": 14,
   "metadata": {},
   "outputs": [
    {
     "name": "stdout",
     "output_type": "stream",
     "text": [
      "[0, 1, 2, 3, 4, 5, 6, 7, 8, 9, 10, 11, 12, 13, 14, 15, 16, 17, 18, 19]\n"
     ]
    }
   ],
   "source": [
    "# list comprehensions are of the following form. One-line way to make a list!\n",
    "\n",
    "big_list = [i for i in range(20)]\n",
    "print big_list"
   ]
  },
  {
   "cell_type": "code",
   "execution_count": 29,
   "metadata": {},
   "outputs": [
    {
     "name": "stdout",
     "output_type": "stream",
     "text": [
      "[1, 9, 25, 49, 81, 121, 169, 225, 289, 361, 441, 529, 625, 729, 841]\n",
      "[1, 9, 25, 49, 81, 121, 169, 225, 289, 361, 441, 529, 625, 729, 841]\n"
     ]
    }
   ],
   "source": [
    "# create a list consisting of squares of odd numbers from 0 to 29.\n",
    "\n",
    "odd_squares = [i ** 2 for i in range(30) if i % 2 == 1]\n",
    "print odd_squares\n",
    "\n",
    "# the single line above is equivalent to the following:\n",
    "alternate = []\n",
    "for i in range(30):\n",
    "    if i % 2 == 1:\n",
    "        alternate.append(i ** 2)\n",
    "\n",
    "print(alternate)"
   ]
  },
  {
   "cell_type": "code",
   "execution_count": 16,
   "metadata": {},
   "outputs": [
    {
     "name": "stdout",
     "output_type": "stream",
     "text": [
      "[0, 0, 0, 0, 0, 0, 0, 0, 0, 0, 0, 0, 0, 0, 0, 0, 0, 0, 0, 0]\n"
     ]
    }
   ],
   "source": [
    "all_zeros = [0 for i in range(20)]\n",
    "print all_zeros"
   ]
  },
  {
   "cell_type": "code",
   "execution_count": 31,
   "metadata": {},
   "outputs": [
    {
     "name": "stdout",
     "output_type": "stream",
     "text": [
      "[[0, 1, 2, 3, 4], [1, 2, 3, 4, 5], [2, 3, 4, 5, 6]]\n",
      "3\n"
     ]
    }
   ],
   "source": [
    "# you can make a two-dimensional array by nesting a list comprehension inside another.\n",
    "two_dimensional = [[i + j for i in range(5)] for j in range(3)]\n",
    "\n",
    "print two_dimensional\n",
    "\n",
    "print two_dimensional[1][2] # access the middle element (index 2) of the second list (index 1)"
   ]
  },
  {
   "cell_type": "code",
   "execution_count": 18,
   "metadata": {},
   "outputs": [
    {
     "name": "stdout",
     "output_type": "stream",
     "text": [
      "[0, 1, 2, 3, 4, 5, 6, 7, 8, 9, 10, 11, 12, 13, 14, 15, 16, 17, 18, 19]\n",
      "[3, 4, 5, 6, 7, 8, 9, 10, 11, 12, 13]\n",
      "19\n"
     ]
    }
   ],
   "source": [
    "# list slices are an easy way to get a chunk of a list.\n",
    "\n",
    "print big_list\n",
    "\n",
    "chunk = big_list[3:14] # grab elements from index 3 to index 14 (not including index 14).\n",
    "\n",
    "print chunk\n",
    "\n",
    "last = big_list[-1] # grab the last element\n",
    "\n",
    "print last"
   ]
  },
  {
   "cell_type": "markdown",
   "metadata": {},
   "source": [
    "### Functions"
   ]
  },
  {
   "cell_type": "code",
   "execution_count": 19,
   "metadata": {},
   "outputs": [
    {
     "name": "stdout",
     "output_type": "stream",
     "text": [
      "5\n"
     ]
    }
   ],
   "source": [
    "# functions are defined as follows:\n",
    "\n",
    "def fib(n):\n",
    "    if n < 2:\n",
    "        return 1\n",
    "    else:\n",
    "        return fib(n - 1) + fib(n - 2)\n",
    "\n",
    "# the function ends when the indented block ends\n",
    "\n",
    "# calling a function:\n",
    "print fib(4)"
   ]
  },
  {
   "cell_type": "code",
   "execution_count": 20,
   "metadata": {},
   "outputs": [
    {
     "name": "stdout",
     "output_type": "stream",
     "text": [
      "[5, 10, 15]\n"
     ]
    }
   ],
   "source": [
    "# functions can take multiple parameters of any type\n",
    "\n",
    "def multiply_each(number_list, x):\n",
    "    output_list = []\n",
    "    for number in number_list:\n",
    "        output_list.append(number * x)\n",
    "    return output_list\n",
    "\n",
    "input_list = [1, 2, 3]\n",
    "x = 5\n",
    "output_list = multiply_each(input_list, x)\n",
    "\n",
    "print output_list"
   ]
  },
  {
   "cell_type": "markdown",
   "metadata": {},
   "source": [
    "### Numpy\n",
    "\n",
    "Numpy is a popular Python numerical library that adds fast arrays and a bunch of useful math operations. We'll just be using the Numpy array:"
   ]
  },
  {
   "cell_type": "code",
   "execution_count": 21,
   "metadata": {},
   "outputs": [],
   "source": [
    "# import the numpy library, and name it np for short\n",
    "\n",
    "import numpy as np"
   ]
  },
  {
   "cell_type": "code",
   "execution_count": 22,
   "metadata": {},
   "outputs": [
    {
     "name": "stdout",
     "output_type": "stream",
     "text": [
      "[0 0 0 0 0 0]\n"
     ]
    }
   ],
   "source": [
    "# create a new numpy integer array of all zeros\n",
    "A = np.zeros(6, dtype=int)\n",
    "\n",
    "print A"
   ]
  },
  {
   "cell_type": "code",
   "execution_count": 23,
   "metadata": {},
   "outputs": [
    {
     "name": "stdout",
     "output_type": "stream",
     "text": [
      "[3 3 3 3 3 3]\n",
      "[0.30579772 0.12980659 0.2083816  0.81585157]\n",
      "[0.9536071  0.99158695 0.97836701 0.68524843]\n"
     ]
    }
   ],
   "source": [
    "# numpy arrays are fixed size: no appending or removing.\n",
    "\n",
    "# they support interesting operations that run on each element:\n",
    "\n",
    "A = A + 3\n",
    "\n",
    "print A\n",
    "\n",
    "B = np.random.rand(4) # array of 4 random numbers\n",
    "\n",
    "print B\n",
    "\n",
    "B = np.cos(B) # take the cosine of each number\n",
    "\n",
    "print B"
   ]
  },
  {
   "cell_type": "code",
   "execution_count": 24,
   "metadata": {},
   "outputs": [
    {
     "name": "stdout",
     "output_type": "stream",
     "text": [
      "[[0 0 0 0 0]\n",
      " [0 0 0 0 0]\n",
      " [0 0 0 0 0]]\n"
     ]
    }
   ],
   "source": [
    "# multi-dimensional numpy arrays are easy to use:\n",
    "\n",
    "matrix = np.zeros((3, 5), dtype=int)\n",
    "# note the parentheses around the dimensions.\n",
    "\n",
    "# 3 rows and 5 columns\n",
    "print matrix"
   ]
  },
  {
   "cell_type": "code",
   "execution_count": 25,
   "metadata": {},
   "outputs": [
    {
     "name": "stdout",
     "output_type": "stream",
     "text": [
      "(3, 5)\n",
      "3\n",
      "5\n",
      "[[0 0 0 0 0]\n",
      " [0 0 0 0 0]\n",
      " [0 5 0 0 0]]\n",
      "5\n"
     ]
    }
   ],
   "source": [
    "# working with 2d arrays:\n",
    "\n",
    "dimensions = matrix.shape\n",
    "print dimensions\n",
    "print dimensions[0]\n",
    "print dimensions[1]\n",
    "\n",
    "# writing a value to the matrix:\n",
    "matrix[2][1] = 5\n",
    "\n",
    "print matrix\n",
    "print matrix[2][1]"
   ]
  },
  {
   "cell_type": "code",
   "execution_count": 26,
   "metadata": {},
   "outputs": [
    {
     "name": "stdout",
     "output_type": "stream",
     "text": [
      "[[6 0 3 1]\n",
      " [4 6 0 0]\n",
      " [2 7 7 4]]\n",
      "6\n",
      "0\n",
      "3\n",
      "1\n",
      "4\n",
      "6\n",
      "0\n",
      "0\n",
      "2\n",
      "7\n",
      "7\n",
      "4\n"
     ]
    }
   ],
   "source": [
    "# stepping through a 2d array:\n",
    "\n",
    "rand_matrix = np.random.randint(0, 10, size=(3, 4))\n",
    "\n",
    "print rand_matrix\n",
    "\n",
    "for i in range(rand_matrix.shape[0]):\n",
    "    for j in range(rand_matrix.shape[1]):\n",
    "        print rand_matrix[i][j]"
   ]
  },
  {
   "cell_type": "markdown",
   "metadata": {},
   "source": [
    "-------------------------------\n",
    "\n",
    "### OK, let's go look at the programming project now!"
   ]
  }
 ],
 "metadata": {
  "kernelspec": {
   "display_name": "Python 2",
   "language": "python",
   "name": "python2"
  },
  "language_info": {
   "codemirror_mode": {
    "name": "ipython",
    "version": 2
   },
   "file_extension": ".py",
   "mimetype": "text/x-python",
   "name": "python",
   "nbconvert_exporter": "python",
   "pygments_lexer": "ipython2",
   "version": "2.7.14"
  }
 },
 "nbformat": 4,
 "nbformat_minor": 2
}
